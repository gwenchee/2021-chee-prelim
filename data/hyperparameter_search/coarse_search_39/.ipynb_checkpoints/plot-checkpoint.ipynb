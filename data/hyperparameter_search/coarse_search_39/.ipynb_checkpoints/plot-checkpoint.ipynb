{
 "cells": [
  {
   "cell_type": "code",
   "execution_count": 1,
   "metadata": {},
   "outputs": [],
   "source": [
    "import numpy as np\n",
    "from numpy import sin, pi\n",
    "import matplotlib.pyplot as plt"
   ]
  },
  {
   "cell_type": "code",
   "execution_count": null,
   "metadata": {},
   "outputs": [],
   "source": [
    "a = 1.989\n",
    "b = 0.354\n",
    "c = 3.143\n",
    "d = 2\n",
    "# normalization \n",
    "total_pf = 0.0979\n",
    "T_r5 = 4235e-5\n",
    "vol_total, vol_slice = 80, 8\n",
    "vol_triso = 4 / 3 * pi * T_r5 ** 3\n",
    "no_trisos = total_pf * vol_total / vol_triso\n",
    "boundaries = np.arange(2,27.1,2.31)\n",
    "midpoints = [] \n",
    "for x in range(len(boundaries)-1):\n",
    "    midpoints.append((boundaries[x]+boundaries[x+1])/2)\n",
    "midpoints = np.array(midpoints)\n",
    "sine_val = a * sin(b * midpoints + c) + 2\n",
    "sine_val = np.where(sine_val<0, 0, sine_val)\n",
    "triso_z = sine_val / sum(sine_val) * no_trisos\n",
    "pf_z = triso_z * vol_triso / vol_slice\n",
    "\n",
    "x = np.arange(2,25.1,0.01)\n",
    "y = (a * np.sin(b*x+c) + d) / sum(sine_val) * no_trisos * vol_triso / vol_slice\n",
    "plt.rc('font', family='serif')\n",
    "fig, ax = plt.subplots(figsize=(15,7))\n",
    "ax.plot(midpoints, pf_z, \"ro\", label=\"PF at each slice\")\n",
    "ax.plot(x, y, label=r\"PF(x) = 1.98sin(0.35x+3.14)+2\")\n",
    "im = plt.imread(\"plot_1.png\")\n",
    "newax = fig.add_axes([0.084, 0.74, 0.858, 0.5], anchor='NE', zorder=-1)\n",
    "newax.imshow(im)\n",
    "newax.axis('off')\n",
    "im2 = plt.imread(\"legend.png\")\n",
    "newax2 = fig.add_axes([0.27, 0.97, 0.858, 0.2], anchor='NE', zorder=-1)\n",
    "newax2.imshow(im2)\n",
    "newax2.axis('off')\n",
    "ax.set_xticks(np.append(0,np.append(np.arange(2,27.1,2.31),27.1)))\n",
    "ax.grid()\n",
    "handles, labels = ax.get_legend_handles_labels()\n",
    "ax.legend(handles, labels, fontsize=18, bbox_to_anchor=(1.,1.,))\n",
    "ax.set_xlim(0,27.1)\n",
    "ax.set_ylim(0.0, 0.25)\n",
    "ax.set_xlabel(\"x [cm]\", fontsize=20)\n",
    "ax.set_ylabel(\"Packing Fraction (PF)\", fontsize=20)\n",
    "plt.savefig('triso_distribution_sine_39.png',bbox_inches='tight')"
   ]
  },
  {
   "cell_type": "code",
   "execution_count": null,
   "metadata": {},
   "outputs": [],
   "source": []
  }
 ],
 "metadata": {
  "kernelspec": {
   "display_name": "Python 3",
   "language": "python",
   "name": "python3"
  },
  "language_info": {
   "codemirror_mode": {
    "name": "ipython",
    "version": 3
   },
   "file_extension": ".py",
   "mimetype": "text/x-python",
   "name": "python",
   "nbconvert_exporter": "python",
   "pygments_lexer": "ipython3",
   "version": "3.6.3"
  }
 },
 "nbformat": 4,
 "nbformat_minor": 4
}
